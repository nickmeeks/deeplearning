{
  "cells": [
    {
      "cell_type": "markdown",
      "metadata": {
        "id": "HYPuQ5VRtVXp"
      },
      "source": [
        "# DS 542 - 2025 Fall - Homework 3\n",
        "\n",
        "Solve the following problems using PyTorch and then submit in [Gradescope](https://www.gradescope.com/courses/1071076).\n"
      ]
    },
    {
      "cell_type": "markdown",
      "metadata": {
        "id": "5DUCBVH4u3cL"
      },
      "source": [
        "Do not use any PyTorch module classes for any of the problems.\n",
        "\n",
        "\n",
        "\n",
        "Tensors and functions such as `tensor.log` and automatic gradient tracking are allowed."
      ]
    },
    {
      "cell_type": "markdown",
      "metadata": {
        "id": "RBf-rtP6tqZO"
      },
      "source": [
        "## Problem 1 - Compute Roots of a Function\n",
        "\n",
        "The roots of a function are inputs that make that function zero.\n",
        "Use gradient descent to solve for both roots of $f(x) = x^2 - 4x + 1$.\n",
        "\n",
        "Save the two roots in a variable `roots` and print it."
      ]
    },
    {
      "cell_type": "markdown",
      "metadata": {
        "id": "F-jH-RWAuJhy"
      },
      "source": [
        "Hint: The discussion on 9/17 will focus on similar problems."
      ]
    },
    {
      "cell_type": "code",
      "execution_count": 30,
      "metadata": {
        "id": "wfjMBkrNz6OS"
      },
      "outputs": [],
      "source": [
        "import matplotlib.pyplot as plt\n",
        "import numpy as np\n",
        "import torch\n",
        "import math"
      ]
    },
    {
      "cell_type": "code",
      "execution_count": 31,
      "metadata": {
        "id": "fS3a9XYpz7-R"
      },
      "outputs": [],
      "source": [
        "def f(x):\n",
        "  return x**2 - 4*x + 1"
      ]
    },
    {
      "cell_type": "code",
      "source": [
        "a = torch.tensor(0.0, requires_grad=True)\n",
        "b = torch.tensor(3.0, requires_grad=True)\n",
        "lr = 0.05\n",
        "steps = 2000\n",
        "loss_hist, a_hist, b_hist = [], [], []\n",
        "\n",
        "for t in range(steps):\n",
        "    loss = f(a)**2 + f(b)**2\n",
        "    loss_hist.append(loss.item())\n",
        "    a_hist.append(a.item())\n",
        "    b_hist.append(b.item())\n",
        "\n",
        "    loss.backward()\n",
        "\n",
        "    with torch.no_grad():\n",
        "        a -= lr * a.grad\n",
        "        b -= lr * b.grad\n",
        "\n",
        "        a.grad.zero_()\n",
        "        b.grad.zero_()\n",
        "\n",
        "roots = [a.item(), b.item()]"
      ],
      "metadata": {
        "id": "Hn1iUVMJuthg"
      },
      "execution_count": 32,
      "outputs": []
    },
    {
      "cell_type": "code",
      "execution_count": 33,
      "metadata": {
        "colab": {
          "base_uri": "https://localhost:8080/"
        },
        "id": "jxgAeWjSzVxY",
        "outputId": "f9933240-4da6-4c03-8c85-e9a1d038a0c7"
      },
      "outputs": [
        {
          "output_type": "execute_result",
          "data": {
            "text/plain": [
              "[0.2679491937160492, 3.732050895690918]"
            ]
          },
          "metadata": {},
          "execution_count": 33
        }
      ],
      "source": [
        "# YOUR CHANGES HERE\n",
        "roots"
      ]
    },
    {
      "cell_type": "markdown",
      "metadata": {
        "id": "uQN5oa87uUcM"
      },
      "source": [
        "## Problem 2 - Implement Logistic Regression\n",
        "\n",
        "Implement logistic regression in PyTorch to predict the outcome column of the Pima Indians Diabetes data set."
      ]
    },
    {
      "cell_type": "code",
      "execution_count": 34,
      "metadata": {
        "id": "pGR8SPRjyWd0"
      },
      "outputs": [],
      "source": [
        "import numpy as np\n",
        "import pandas as pd"
      ]
    },
    {
      "cell_type": "code",
      "execution_count": 35,
      "metadata": {
        "colab": {
          "base_uri": "https://localhost:8080/",
          "height": 226
        },
        "id": "30JCw4JtyP4T",
        "outputId": "11f6341a-2221-46a5-fe1a-04c616ef8ab9"
      },
      "outputs": [
        {
          "output_type": "execute_result",
          "data": {
            "text/plain": [
              "   Pregnancies  Glucose  BloodPressure  SkinThickness  Insulin   BMI  \\\n",
              "0            6      148             72             35        0  33.6   \n",
              "1            1       85             66             29        0  26.6   \n",
              "2            8      183             64              0        0  23.3   \n",
              "3            1       89             66             23       94  28.1   \n",
              "4            0      137             40             35      168  43.1   \n",
              "\n",
              "   DiabetesPedigreeFunction  Age  Outcome  \n",
              "0                     0.627   50        1  \n",
              "1                     0.351   31        0  \n",
              "2                     0.672   32        1  \n",
              "3                     0.167   21        0  \n",
              "4                     2.288   33        1  "
            ],
            "text/html": [
              "\n",
              "  <div id=\"df-39b9fbb5-85f4-42f4-b488-8d0fc24854ba\" class=\"colab-df-container\">\n",
              "    <div>\n",
              "<style scoped>\n",
              "    .dataframe tbody tr th:only-of-type {\n",
              "        vertical-align: middle;\n",
              "    }\n",
              "\n",
              "    .dataframe tbody tr th {\n",
              "        vertical-align: top;\n",
              "    }\n",
              "\n",
              "    .dataframe thead th {\n",
              "        text-align: right;\n",
              "    }\n",
              "</style>\n",
              "<table border=\"1\" class=\"dataframe\">\n",
              "  <thead>\n",
              "    <tr style=\"text-align: right;\">\n",
              "      <th></th>\n",
              "      <th>Pregnancies</th>\n",
              "      <th>Glucose</th>\n",
              "      <th>BloodPressure</th>\n",
              "      <th>SkinThickness</th>\n",
              "      <th>Insulin</th>\n",
              "      <th>BMI</th>\n",
              "      <th>DiabetesPedigreeFunction</th>\n",
              "      <th>Age</th>\n",
              "      <th>Outcome</th>\n",
              "    </tr>\n",
              "  </thead>\n",
              "  <tbody>\n",
              "    <tr>\n",
              "      <th>0</th>\n",
              "      <td>6</td>\n",
              "      <td>148</td>\n",
              "      <td>72</td>\n",
              "      <td>35</td>\n",
              "      <td>0</td>\n",
              "      <td>33.6</td>\n",
              "      <td>0.627</td>\n",
              "      <td>50</td>\n",
              "      <td>1</td>\n",
              "    </tr>\n",
              "    <tr>\n",
              "      <th>1</th>\n",
              "      <td>1</td>\n",
              "      <td>85</td>\n",
              "      <td>66</td>\n",
              "      <td>29</td>\n",
              "      <td>0</td>\n",
              "      <td>26.6</td>\n",
              "      <td>0.351</td>\n",
              "      <td>31</td>\n",
              "      <td>0</td>\n",
              "    </tr>\n",
              "    <tr>\n",
              "      <th>2</th>\n",
              "      <td>8</td>\n",
              "      <td>183</td>\n",
              "      <td>64</td>\n",
              "      <td>0</td>\n",
              "      <td>0</td>\n",
              "      <td>23.3</td>\n",
              "      <td>0.672</td>\n",
              "      <td>32</td>\n",
              "      <td>1</td>\n",
              "    </tr>\n",
              "    <tr>\n",
              "      <th>3</th>\n",
              "      <td>1</td>\n",
              "      <td>89</td>\n",
              "      <td>66</td>\n",
              "      <td>23</td>\n",
              "      <td>94</td>\n",
              "      <td>28.1</td>\n",
              "      <td>0.167</td>\n",
              "      <td>21</td>\n",
              "      <td>0</td>\n",
              "    </tr>\n",
              "    <tr>\n",
              "      <th>4</th>\n",
              "      <td>0</td>\n",
              "      <td>137</td>\n",
              "      <td>40</td>\n",
              "      <td>35</td>\n",
              "      <td>168</td>\n",
              "      <td>43.1</td>\n",
              "      <td>2.288</td>\n",
              "      <td>33</td>\n",
              "      <td>1</td>\n",
              "    </tr>\n",
              "  </tbody>\n",
              "</table>\n",
              "</div>\n",
              "    <div class=\"colab-df-buttons\">\n",
              "\n",
              "  <div class=\"colab-df-container\">\n",
              "    <button class=\"colab-df-convert\" onclick=\"convertToInteractive('df-39b9fbb5-85f4-42f4-b488-8d0fc24854ba')\"\n",
              "            title=\"Convert this dataframe to an interactive table.\"\n",
              "            style=\"display:none;\">\n",
              "\n",
              "  <svg xmlns=\"http://www.w3.org/2000/svg\" height=\"24px\" viewBox=\"0 -960 960 960\">\n",
              "    <path d=\"M120-120v-720h720v720H120Zm60-500h600v-160H180v160Zm220 220h160v-160H400v160Zm0 220h160v-160H400v160ZM180-400h160v-160H180v160Zm440 0h160v-160H620v160ZM180-180h160v-160H180v160Zm440 0h160v-160H620v160Z\"/>\n",
              "  </svg>\n",
              "    </button>\n",
              "\n",
              "  <style>\n",
              "    .colab-df-container {\n",
              "      display:flex;\n",
              "      gap: 12px;\n",
              "    }\n",
              "\n",
              "    .colab-df-convert {\n",
              "      background-color: #E8F0FE;\n",
              "      border: none;\n",
              "      border-radius: 50%;\n",
              "      cursor: pointer;\n",
              "      display: none;\n",
              "      fill: #1967D2;\n",
              "      height: 32px;\n",
              "      padding: 0 0 0 0;\n",
              "      width: 32px;\n",
              "    }\n",
              "\n",
              "    .colab-df-convert:hover {\n",
              "      background-color: #E2EBFA;\n",
              "      box-shadow: 0px 1px 2px rgba(60, 64, 67, 0.3), 0px 1px 3px 1px rgba(60, 64, 67, 0.15);\n",
              "      fill: #174EA6;\n",
              "    }\n",
              "\n",
              "    .colab-df-buttons div {\n",
              "      margin-bottom: 4px;\n",
              "    }\n",
              "\n",
              "    [theme=dark] .colab-df-convert {\n",
              "      background-color: #3B4455;\n",
              "      fill: #D2E3FC;\n",
              "    }\n",
              "\n",
              "    [theme=dark] .colab-df-convert:hover {\n",
              "      background-color: #434B5C;\n",
              "      box-shadow: 0px 1px 3px 1px rgba(0, 0, 0, 0.15);\n",
              "      filter: drop-shadow(0px 1px 2px rgba(0, 0, 0, 0.3));\n",
              "      fill: #FFFFFF;\n",
              "    }\n",
              "  </style>\n",
              "\n",
              "    <script>\n",
              "      const buttonEl =\n",
              "        document.querySelector('#df-39b9fbb5-85f4-42f4-b488-8d0fc24854ba button.colab-df-convert');\n",
              "      buttonEl.style.display =\n",
              "        google.colab.kernel.accessAllowed ? 'block' : 'none';\n",
              "\n",
              "      async function convertToInteractive(key) {\n",
              "        const element = document.querySelector('#df-39b9fbb5-85f4-42f4-b488-8d0fc24854ba');\n",
              "        const dataTable =\n",
              "          await google.colab.kernel.invokeFunction('convertToInteractive',\n",
              "                                                    [key], {});\n",
              "        if (!dataTable) return;\n",
              "\n",
              "        const docLinkHtml = 'Like what you see? Visit the ' +\n",
              "          '<a target=\"_blank\" href=https://colab.research.google.com/notebooks/data_table.ipynb>data table notebook</a>'\n",
              "          + ' to learn more about interactive tables.';\n",
              "        element.innerHTML = '';\n",
              "        dataTable['output_type'] = 'display_data';\n",
              "        await google.colab.output.renderOutput(dataTable, element);\n",
              "        const docLink = document.createElement('div');\n",
              "        docLink.innerHTML = docLinkHtml;\n",
              "        element.appendChild(docLink);\n",
              "      }\n",
              "    </script>\n",
              "  </div>\n",
              "\n",
              "\n",
              "    <div id=\"df-1e2f0eff-4a6b-48a8-b520-fca8092382c5\">\n",
              "      <button class=\"colab-df-quickchart\" onclick=\"quickchart('df-1e2f0eff-4a6b-48a8-b520-fca8092382c5')\"\n",
              "                title=\"Suggest charts\"\n",
              "                style=\"display:none;\">\n",
              "\n",
              "<svg xmlns=\"http://www.w3.org/2000/svg\" height=\"24px\"viewBox=\"0 0 24 24\"\n",
              "     width=\"24px\">\n",
              "    <g>\n",
              "        <path d=\"M19 3H5c-1.1 0-2 .9-2 2v14c0 1.1.9 2 2 2h14c1.1 0 2-.9 2-2V5c0-1.1-.9-2-2-2zM9 17H7v-7h2v7zm4 0h-2V7h2v10zm4 0h-2v-4h2v4z\"/>\n",
              "    </g>\n",
              "</svg>\n",
              "      </button>\n",
              "\n",
              "<style>\n",
              "  .colab-df-quickchart {\n",
              "      --bg-color: #E8F0FE;\n",
              "      --fill-color: #1967D2;\n",
              "      --hover-bg-color: #E2EBFA;\n",
              "      --hover-fill-color: #174EA6;\n",
              "      --disabled-fill-color: #AAA;\n",
              "      --disabled-bg-color: #DDD;\n",
              "  }\n",
              "\n",
              "  [theme=dark] .colab-df-quickchart {\n",
              "      --bg-color: #3B4455;\n",
              "      --fill-color: #D2E3FC;\n",
              "      --hover-bg-color: #434B5C;\n",
              "      --hover-fill-color: #FFFFFF;\n",
              "      --disabled-bg-color: #3B4455;\n",
              "      --disabled-fill-color: #666;\n",
              "  }\n",
              "\n",
              "  .colab-df-quickchart {\n",
              "    background-color: var(--bg-color);\n",
              "    border: none;\n",
              "    border-radius: 50%;\n",
              "    cursor: pointer;\n",
              "    display: none;\n",
              "    fill: var(--fill-color);\n",
              "    height: 32px;\n",
              "    padding: 0;\n",
              "    width: 32px;\n",
              "  }\n",
              "\n",
              "  .colab-df-quickchart:hover {\n",
              "    background-color: var(--hover-bg-color);\n",
              "    box-shadow: 0 1px 2px rgba(60, 64, 67, 0.3), 0 1px 3px 1px rgba(60, 64, 67, 0.15);\n",
              "    fill: var(--button-hover-fill-color);\n",
              "  }\n",
              "\n",
              "  .colab-df-quickchart-complete:disabled,\n",
              "  .colab-df-quickchart-complete:disabled:hover {\n",
              "    background-color: var(--disabled-bg-color);\n",
              "    fill: var(--disabled-fill-color);\n",
              "    box-shadow: none;\n",
              "  }\n",
              "\n",
              "  .colab-df-spinner {\n",
              "    border: 2px solid var(--fill-color);\n",
              "    border-color: transparent;\n",
              "    border-bottom-color: var(--fill-color);\n",
              "    animation:\n",
              "      spin 1s steps(1) infinite;\n",
              "  }\n",
              "\n",
              "  @keyframes spin {\n",
              "    0% {\n",
              "      border-color: transparent;\n",
              "      border-bottom-color: var(--fill-color);\n",
              "      border-left-color: var(--fill-color);\n",
              "    }\n",
              "    20% {\n",
              "      border-color: transparent;\n",
              "      border-left-color: var(--fill-color);\n",
              "      border-top-color: var(--fill-color);\n",
              "    }\n",
              "    30% {\n",
              "      border-color: transparent;\n",
              "      border-left-color: var(--fill-color);\n",
              "      border-top-color: var(--fill-color);\n",
              "      border-right-color: var(--fill-color);\n",
              "    }\n",
              "    40% {\n",
              "      border-color: transparent;\n",
              "      border-right-color: var(--fill-color);\n",
              "      border-top-color: var(--fill-color);\n",
              "    }\n",
              "    60% {\n",
              "      border-color: transparent;\n",
              "      border-right-color: var(--fill-color);\n",
              "    }\n",
              "    80% {\n",
              "      border-color: transparent;\n",
              "      border-right-color: var(--fill-color);\n",
              "      border-bottom-color: var(--fill-color);\n",
              "    }\n",
              "    90% {\n",
              "      border-color: transparent;\n",
              "      border-bottom-color: var(--fill-color);\n",
              "    }\n",
              "  }\n",
              "</style>\n",
              "\n",
              "      <script>\n",
              "        async function quickchart(key) {\n",
              "          const quickchartButtonEl =\n",
              "            document.querySelector('#' + key + ' button');\n",
              "          quickchartButtonEl.disabled = true;  // To prevent multiple clicks.\n",
              "          quickchartButtonEl.classList.add('colab-df-spinner');\n",
              "          try {\n",
              "            const charts = await google.colab.kernel.invokeFunction(\n",
              "                'suggestCharts', [key], {});\n",
              "          } catch (error) {\n",
              "            console.error('Error during call to suggestCharts:', error);\n",
              "          }\n",
              "          quickchartButtonEl.classList.remove('colab-df-spinner');\n",
              "          quickchartButtonEl.classList.add('colab-df-quickchart-complete');\n",
              "        }\n",
              "        (() => {\n",
              "          let quickchartButtonEl =\n",
              "            document.querySelector('#df-1e2f0eff-4a6b-48a8-b520-fca8092382c5 button');\n",
              "          quickchartButtonEl.style.display =\n",
              "            google.colab.kernel.accessAllowed ? 'block' : 'none';\n",
              "        })();\n",
              "      </script>\n",
              "    </div>\n",
              "\n",
              "    </div>\n",
              "  </div>\n"
            ],
            "application/vnd.google.colaboratory.intrinsic+json": {
              "type": "dataframe",
              "variable_name": "df",
              "summary": "{\n  \"name\": \"df\",\n  \"rows\": 768,\n  \"fields\": [\n    {\n      \"column\": \"Pregnancies\",\n      \"properties\": {\n        \"dtype\": \"number\",\n        \"std\": 3,\n        \"min\": 0,\n        \"max\": 17,\n        \"num_unique_values\": 17,\n        \"samples\": [\n          6,\n          1,\n          3\n        ],\n        \"semantic_type\": \"\",\n        \"description\": \"\"\n      }\n    },\n    {\n      \"column\": \"Glucose\",\n      \"properties\": {\n        \"dtype\": \"number\",\n        \"std\": 31,\n        \"min\": 0,\n        \"max\": 199,\n        \"num_unique_values\": 136,\n        \"samples\": [\n          151,\n          101,\n          112\n        ],\n        \"semantic_type\": \"\",\n        \"description\": \"\"\n      }\n    },\n    {\n      \"column\": \"BloodPressure\",\n      \"properties\": {\n        \"dtype\": \"number\",\n        \"std\": 19,\n        \"min\": 0,\n        \"max\": 122,\n        \"num_unique_values\": 47,\n        \"samples\": [\n          86,\n          46,\n          85\n        ],\n        \"semantic_type\": \"\",\n        \"description\": \"\"\n      }\n    },\n    {\n      \"column\": \"SkinThickness\",\n      \"properties\": {\n        \"dtype\": \"number\",\n        \"std\": 15,\n        \"min\": 0,\n        \"max\": 99,\n        \"num_unique_values\": 51,\n        \"samples\": [\n          7,\n          12,\n          48\n        ],\n        \"semantic_type\": \"\",\n        \"description\": \"\"\n      }\n    },\n    {\n      \"column\": \"Insulin\",\n      \"properties\": {\n        \"dtype\": \"number\",\n        \"std\": 115,\n        \"min\": 0,\n        \"max\": 846,\n        \"num_unique_values\": 186,\n        \"samples\": [\n          52,\n          41,\n          183\n        ],\n        \"semantic_type\": \"\",\n        \"description\": \"\"\n      }\n    },\n    {\n      \"column\": \"BMI\",\n      \"properties\": {\n        \"dtype\": \"number\",\n        \"std\": 7.8841603203754405,\n        \"min\": 0.0,\n        \"max\": 67.1,\n        \"num_unique_values\": 248,\n        \"samples\": [\n          19.9,\n          31.0,\n          38.1\n        ],\n        \"semantic_type\": \"\",\n        \"description\": \"\"\n      }\n    },\n    {\n      \"column\": \"DiabetesPedigreeFunction\",\n      \"properties\": {\n        \"dtype\": \"number\",\n        \"std\": 0.33132859501277484,\n        \"min\": 0.078,\n        \"max\": 2.42,\n        \"num_unique_values\": 517,\n        \"samples\": [\n          1.731,\n          0.426,\n          0.138\n        ],\n        \"semantic_type\": \"\",\n        \"description\": \"\"\n      }\n    },\n    {\n      \"column\": \"Age\",\n      \"properties\": {\n        \"dtype\": \"number\",\n        \"std\": 11,\n        \"min\": 21,\n        \"max\": 81,\n        \"num_unique_values\": 52,\n        \"samples\": [\n          60,\n          47,\n          72\n        ],\n        \"semantic_type\": \"\",\n        \"description\": \"\"\n      }\n    },\n    {\n      \"column\": \"Outcome\",\n      \"properties\": {\n        \"dtype\": \"number\",\n        \"std\": 0,\n        \"min\": 0,\n        \"max\": 1,\n        \"num_unique_values\": 2,\n        \"samples\": [\n          0,\n          1\n        ],\n        \"semantic_type\": \"\",\n        \"description\": \"\"\n      }\n    }\n  ]\n}"
            }
          },
          "metadata": {},
          "execution_count": 35
        }
      ],
      "source": [
        "df = pd.read_csv(\"https://github.com/npradaschnor/Pima-Indians-Diabetes-Dataset/raw/refs/heads/master/diabetes.csv\")\n",
        "df.head()"
      ]
    },
    {
      "cell_type": "code",
      "execution_count": 36,
      "metadata": {
        "id": "lsWgbTdryuZn"
      },
      "outputs": [],
      "source": [
        "input_df = df.drop(columns=[\"Outcome\"])\n",
        "target = df[\"Outcome\"]"
      ]
    },
    {
      "cell_type": "markdown",
      "metadata": {
        "id": "dmIKSJ6FwnMs"
      },
      "source": [
        "### Part A - Setup the Logistic Regression and Prediction Function"
      ]
    },
    {
      "cell_type": "code",
      "execution_count": 37,
      "metadata": {
        "id": "XdIQJqO3yALF"
      },
      "outputs": [],
      "source": [
        "# YOUR CHANGES HERE\n",
        "n_features = 8\n",
        "weights = torch.randn(n_features, requires_grad=True) # tensor of 8 random weights, 1 for each feature\n",
        "# requires_grad - tracks gradients for this tensor so we can update during training\n",
        "bias = torch.zeros(1, requires_grad=True) # creates a single bias term initialized to 0\n",
        "\n",
        "def predict(X, weights, bias):\n",
        "\n",
        "    z = torch.matmul(X, weights) + bias # computes linear combination\n",
        "\n",
        "    predictions = torch.sigmoid(z) # applies sigmoid function to convert z values to probs between 0-1\n",
        "\n",
        "    return predictions"
      ]
    },
    {
      "cell_type": "markdown",
      "metadata": {
        "id": "LRSA84-Swu4A"
      },
      "source": [
        "### Part B - Write a Function Calculating the Loss for this Logistic Regression"
      ]
    },
    {
      "cell_type": "code",
      "execution_count": 38,
      "metadata": {
        "id": "pksb41sox_rg"
      },
      "outputs": [],
      "source": [
        "# Loss function\n",
        "def compute_loss(y_true, y_pred):\n",
        "    eps = 1e-15  # extremely small number to prevent log(0)\n",
        "    m = y_true.shape[0] # number of samples\n",
        "    loss = -(1/m) * torch.sum( # negative average because MINIMIZING LOSS\n",
        "        y_true * torch.log(y_pred + eps) +\n",
        "        (1 - y_true) * torch.log(1 - y_pred + eps)\n",
        "    )\n",
        "    return loss\n",
        "    # when y = 1, only first term matters\n",
        "    # when y = 0, only second term matters"
      ]
    },
    {
      "cell_type": "markdown",
      "metadata": {
        "id": "PG7wQYd0w_Rr"
      },
      "source": [
        "### Part C - Optimize the Logistic Regression Parameters using Gradient Descent\n"
      ]
    },
    {
      "cell_type": "code",
      "execution_count": 39,
      "metadata": {
        "id": "oFhz3Tzzx_Kk"
      },
      "outputs": [],
      "source": [
        "lr = 0.01\n",
        "steps = 3000\n",
        "loss_hist = [] # stores loss values for plotting\n",
        "input_df_tensor = torch.tensor(input_df.values, dtype=torch.float32) # convert data to tensors\n",
        "target_tensor = torch.tensor(target.values, dtype=torch.float32) # convert data to tensors\n",
        "\n",
        "for t in range(steps): # loops through training steps\n",
        "    predictions = predict(input_df_tensor, weights, bias)  # Run input through our model to get predicted probabilities\n",
        "    loss = compute_loss(target_tensor, predictions) # Calculate how wrong our predictions are using binary cross-entropy\n",
        "\n",
        "    loss.backward() # automatically computes gradients of loss w.r.t. weights and bias using backprob\n",
        "\n",
        "    with torch.no_grad(): # temporarily disable gradient tracking\n",
        "        weights -= lr * weights.grad # move weights in opposite direction of gradient\n",
        "        bias -= lr * bias.grad # move bias in opposite direction of gradient\n",
        "\n",
        "    weights.grad.zero_() # zero out gradients b/c PyTorch accumulates gradients\n",
        "    bias.grad.zero_()\n",
        "\n",
        "    if t % 10 == 0: # printing every 10 steps\n",
        "        loss_hist.append(loss.item())"
      ]
    },
    {
      "cell_type": "markdown",
      "metadata": {
        "id": "qvXZDQkHw6Qs"
      },
      "source": [
        "### Part D - Plot Ground Truth vs Predicted Probabilities\n",
        "\n",
        "Make a scatter plot where your logistic regression's predictions for each row of the data set are the x-axis, and the actual outcome is the y axis."
      ]
    },
    {
      "cell_type": "code",
      "execution_count": 40,
      "metadata": {
        "colab": {
          "base_uri": "https://localhost:8080/",
          "height": 558
        },
        "id": "UWNf5Up7x-vI",
        "outputId": "03c11ff5-e26e-4c4a-ddf9-c12a7ea87aea"
      },
      "outputs": [
        {
          "output_type": "display_data",
          "data": {
            "text/plain": [
              "<Figure size 1000x600 with 1 Axes>"
            ],
            "image/png": "[encoded data removed]"
          },
          "metadata": {}
        }
      ],
      "source": [
        "with torch.no_grad():  # Don't need gradients for evaluation\n",
        "    final_predictions = predict(input_df_tensor, weights, bias)\n",
        "\n",
        "pred_probs = final_predictions.numpy() # Convert to numpy for plotting\n",
        "actual_outcomes = target_tensor.numpy()\n",
        "\n",
        "plt.figure(figsize=(10, 6))\n",
        "plt.scatter(pred_probs, actual_outcomes, alpha=0.6, s=20)\n",
        "plt.xlabel('Predicted Probabilities')\n",
        "plt.ylabel('Actual Outcome (Ground Truth)')\n",
        "plt.title('Ground Truth vs Predicted Probabilities')\n",
        "plt.grid(True, alpha=0.3)\n",
        "\n",
        "plt.xlim(0, 1)\n",
        "plt.ylim(-0.1, 1.1)\n",
        "\n",
        "plt.show()"
      ]
    },
    {
      "cell_type": "markdown",
      "metadata": {
        "id": "_sHzscj8xFhd"
      },
      "source": [
        "## Problem 3 - Implement a Shallow Neural Network\n",
        "\n",
        "Implement a neural network with one hidden layer to predict the outcome column of the Pima Indians Diabetes data set."
      ]
    },
    {
      "cell_type": "markdown",
      "metadata": {
        "id": "UiurHfjFxKqX"
      },
      "source": [
        "### Part A - Setup the Neural Network and Prediction Function\n",
        "\n",
        "\n",
        "\n"
      ]
    },
    {
      "cell_type": "code",
      "execution_count": 41,
      "metadata": {
        "id": "vwKkXibNx9pD"
      },
      "outputs": [],
      "source": [
        "import torch\n",
        "import torch.nn.functional as F\n",
        "\n",
        "input_size = 8\n",
        "hidden_size = 10    # number of neurons in hidden layer\n",
        "output_size = 1     # single output (binary classification)\n",
        "\n",
        "# Initialize weights and biases\n",
        "W1 = torch.randn(input_size, hidden_size, requires_grad=True)  # input to hidden layer, weight matrix from input(8) to hidden(10), shape 8,10\n",
        "b1 = torch.zeros(hidden_size, requires_grad=True)  # hidden layer bias, bias vector for hidden layer, shape (10,)\n",
        "W2 = torch.randn(hidden_size, output_size, requires_grad=True) # hidden layer to output, weight matrix from hidden(10) to output(1), shape (10,1)\n",
        "b2 = torch.zeros(output_size, requires_grad=True)  # Output bias, bias for output layer, shape (1,)\n",
        "# all initialized randomly except biases, which are set to zero\n",
        "\n",
        "def predict_nn(X, W1, b1, W2, b2):\n",
        "    # Forward pass\n",
        "    z1 = torch.matmul(X, W1) + b1    # Linear transformation to hidden layer\n",
        "    a1 = torch.relu(z1)              # ReLU activation function- sets neg values to 0, keeps positive values. allows it to learn non-linear decision boundaries\n",
        "    z2 = torch.matmul(a1, W2) + b2   # Linear transformation to output-\n",
        "    predictions = torch.sigmoid(z2)  # final sigmoid for binary classification\n",
        "\n",
        "    return predictions"
      ]
    },
    {
      "cell_type": "markdown",
      "metadata": {
        "id": "psGkbbLYxU1M"
      },
      "source": [
        "### Part B - Write a Function Calculating the Loss for the Neural Network"
      ]
    },
    {
      "cell_type": "code",
      "execution_count": 42,
      "metadata": {
        "id": "AvRlq0SCx9K1"
      },
      "outputs": [],
      "source": [
        "def compute_nn_loss(y_true, y_pred):\n",
        "    eps = 1e-15  # Small value to prevent log(0)\n",
        "    m = y_true.shape[0]\n",
        "\n",
        "    y_pred = y_pred.squeeze()  # Remove extra dimensions if needed\n",
        "\n",
        "    loss = -(1/m) * torch.sum( # same binary cross-entropy as logreg\n",
        "        y_true * torch.log(y_pred + eps) +\n",
        "        (1 - y_true) * torch.log(1 - y_pred + eps)\n",
        "    )\n",
        "    return loss"
      ]
    },
    {
      "cell_type": "markdown",
      "metadata": {
        "id": "gQ41L4_jxZJ5"
      },
      "source": [
        "### Part C - Optimize the Neural Network with Gradient Descent"
      ]
    },
    {
      "cell_type": "code",
      "execution_count": 43,
      "metadata": {
        "colab": {
          "base_uri": "https://localhost:8080/"
        },
        "id": "9j2htPTXx8pS",
        "outputId": "f03af9d9-2307-4e03-b706-e272a599e218"
      },
      "outputs": [
        {
          "output_type": "stream",
          "name": "stdout",
          "text": [
            "Step 0, Loss: 21.0106\n",
            "Step 100, Loss: 14.7846\n",
            "Step 200, Loss: 10.9499\n",
            "Step 300, Loss: 18.4310\n",
            "Step 400, Loss: 10.8770\n",
            "Step 500, Loss: 9.1053\n",
            "Step 600, Loss: 16.6161\n",
            "Step 700, Loss: 15.2895\n",
            "Step 800, Loss: 8.6999\n",
            "Step 900, Loss: 8.5963\n",
            "Step 1000, Loss: 8.2195\n",
            "Step 1100, Loss: 13.8247\n",
            "Step 1200, Loss: 6.1295\n",
            "Step 1300, Loss: 1.0423\n",
            "Step 1400, Loss: 0.7179\n",
            "Step 1500, Loss: 0.6518\n",
            "Step 1600, Loss: 0.6439\n",
            "Step 1700, Loss: 0.6385\n",
            "Step 1800, Loss: 0.6303\n",
            "Step 1900, Loss: 0.6233\n",
            "Step 2000, Loss: 0.6173\n",
            "Step 2100, Loss: 0.6124\n",
            "Step 2200, Loss: 0.6100\n",
            "Step 2300, Loss: 0.6079\n",
            "Step 2400, Loss: 0.6079\n",
            "Step 2500, Loss: 0.6046\n",
            "Step 2600, Loss: 0.6012\n",
            "Step 2700, Loss: 0.5999\n",
            "Step 2800, Loss: 0.5975\n",
            "Step 2900, Loss: 0.6003\n",
            "Step 3000, Loss: 0.5958\n",
            "Step 3100, Loss: 0.5944\n",
            "Step 3200, Loss: 0.5930\n",
            "Step 3300, Loss: 0.5910\n",
            "Step 3400, Loss: 0.5900\n",
            "Step 3500, Loss: 0.5893\n",
            "Step 3600, Loss: 0.5876\n",
            "Step 3700, Loss: 0.5868\n",
            "Step 3800, Loss: 0.5859\n",
            "Step 3900, Loss: 0.5851\n",
            "Step 4000, Loss: 0.5836\n",
            "Step 4100, Loss: 0.5832\n",
            "Step 4200, Loss: 0.5841\n",
            "Step 4300, Loss: 0.5830\n",
            "Step 4400, Loss: 0.5807\n",
            "Step 4500, Loss: 0.5790\n",
            "Step 4600, Loss: 0.5789\n",
            "Step 4700, Loss: 0.5777\n",
            "Step 4800, Loss: 0.5767\n",
            "Step 4900, Loss: 0.5759\n"
          ]
        }
      ],
      "source": [
        "# Convert data to tensors (same as before)\n",
        "input_df_tensor = torch.tensor(input_df.values, dtype=torch.float32)\n",
        "target_tensor = torch.tensor(target.values, dtype=torch.float32)\n",
        "\n",
        "# Training parameters\n",
        "lr = 0.01\n",
        "steps = 5000  # More steps for neural network\n",
        "loss_hist = []\n",
        "# training loop extremely similar to logreg, but 4 parameters instead of 2\n",
        "\n",
        "for t in range(steps):\n",
        "    # Forward pass\n",
        "    predictions = predict_nn(input_df_tensor, W1, b1, W2, b2)\n",
        "\n",
        "    # Compute loss\n",
        "    loss = compute_nn_loss(target_tensor, predictions)\n",
        "\n",
        "    # Backward pass\n",
        "    loss.backward()\n",
        "\n",
        "    # Update parameters\n",
        "    with torch.no_grad():\n",
        "        W1 -= lr * W1.grad\n",
        "        b1 -= lr * b1.grad\n",
        "        W2 -= lr * W2.grad\n",
        "        b2 -= lr * b2.grad\n",
        "\n",
        "    # Zero gradients\n",
        "    W1.grad.zero_()\n",
        "    b1.grad.zero_()\n",
        "    W2.grad.zero_()\n",
        "    b2.grad.zero_()\n",
        "\n",
        "    # Track loss history\n",
        "    if t % 100 == 0:\n",
        "        loss_hist.append(loss.item())\n",
        "        print(f\"Step {t}, Loss: {loss.item():.4f}\")"
      ]
    },
    {
      "cell_type": "markdown",
      "metadata": {
        "id": "DXB-MWCBxcxU"
      },
      "source": [
        "### Part D - Plot Ground Truth vs Predicted Probabilities\n",
        "\n",
        "Make a scatter plot where your neural network's predictions for each row of the data set are the x-axis, and the actual outcome is the y axis."
      ]
    },
    {
      "cell_type": "code",
      "execution_count": 44,
      "metadata": {
        "colab": {
          "base_uri": "https://localhost:8080/",
          "height": 558
        },
        "id": "Lo5mX-nTx6_J",
        "outputId": "10a6cba9-91ce-40ec-8e48-f892d8db0ae5"
      },
      "outputs": [
        {
          "output_type": "display_data",
          "data": {
            "text/plain": [
              "<Figure size 1000x600 with 1 Axes>"
            ],
            "image/png": "[encoded data removed]"
          },
          "metadata": {}
        }
      ],
      "source": [
        "# Get final predictions after training\n",
        "with torch.no_grad():\n",
        "    final_predictions_nn = predict_nn(input_df_tensor, W1, b1, W2, b2)\n",
        "\n",
        "# Convert to numpy for plotting\n",
        "pred_probs_nn = final_predictions_nn.squeeze().numpy()\n",
        "actual_outcomes = target_tensor.numpy()\n",
        "\n",
        "# Create scatter plot\n",
        "plt.figure(figsize=(10, 6))\n",
        "plt.scatter(pred_probs_nn, actual_outcomes, alpha=0.6, s=20)\n",
        "plt.xlabel('Predicted Probabilities (Neural Network)')\n",
        "plt.ylabel('Actual Outcome (Ground Truth)')\n",
        "plt.title('Neural Network: Ground Truth vs Predicted Probabilities')\n",
        "plt.grid(True, alpha=0.3)\n",
        "\n",
        "# Set axis limits\n",
        "plt.xlim(0, 1)\n",
        "plt.ylim(-0.1, 1.1)\n",
        "\n",
        "plt.show()"
      ]
    }
  ],
  "metadata": {
    "colab": {
      "provenance": []
    },
    "kernelspec": {
      "display_name": "Python 3",
      "name": "python3"
    },
    "language_info": {
      "name": "python"
    }
  },
  "nbformat": 4,
  "nbformat_minor": 0
}