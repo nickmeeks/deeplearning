{
  "cells": [
    {
      "cell_type": "markdown",
      "metadata": {
        "id": "HYPuQ5VRtVXp"
      },
      "source": [
        "# DS 542 - 2025 Fall - Homework 3\n",
        "\n",
        "Solve the following problems using PyTorch and then submit in [Gradescope](https://www.gradescope.com/courses/1071076).\n"
      ]
    },
    {
      "cell_type": "markdown",
      "metadata": {
        "id": "5DUCBVH4u3cL"
      },
      "source": [
        "Do not use any PyTorch module classes for any of the problems.\n",
        "Tensors and functions such as `tensor.log` and automatic gradient tracking are allowed."
      ]
    },
    {
      "cell_type": "markdown",
      "metadata": {
        "id": "RBf-rtP6tqZO"
      },
      "source": [
        "## Problem 1 - Compute Roots of a Function\n",
        "\n",
        "The roots of a function are inputs that make that function zero.\n",
        "Use gradient descent to solve for both roots of $f(x) = x^2 - 4x + 1$.\n",
        "\n",
        "Save the two roots in a variable `roots` and print it."
      ]
    },
    {
      "cell_type": "markdown",
      "metadata": {
        "id": "F-jH-RWAuJhy"
      },
      "source": [
        "Hint: The discussion on 9/17 will focus on similar problems."
      ]
    },
    {
      "cell_type": "code",
      "execution_count": 44,
      "metadata": {
        "id": "wfjMBkrNz6OS"
      },
      "outputs": [],
      "source": [
        "import matplotlib.pyplot as plt\n",
        "import numpy as np\n",
        "import torch\n",
        "import math"
      ]
    },
    {
      "cell_type": "code",
      "execution_count": 45,
      "metadata": {
        "id": "fS3a9XYpz7-R"
      },
      "outputs": [],
      "source": [
        "def f(x):\n",
        "  return x**2 - 4*x + 1"
      ]
    },
    {
      "cell_type": "code",
      "source": [
        "a = torch.tensor(0.0, requires_grad=True)\n",
        "b = torch.tensor(3.0, requires_grad=True)\n",
        "lr = 0.05\n",
        "steps = 2000\n",
        "loss_hist, a_hist, b_hist = [], [], []\n",
        "# Training loop\n",
        "for t in range(steps):\n",
        "    loss = f(a)**2 + f(b)**2\n",
        "    loss_hist.append(loss.item())\n",
        "    a_hist.append(a.item())\n",
        "    b_hist.append(b.item())\n",
        "\n",
        "    loss.backward()\n",
        "\n",
        "    with torch.no_grad():\n",
        "        a -= lr * a.grad\n",
        "        b -= lr * b.grad\n",
        "\n",
        "        a.grad.zero_()\n",
        "        b.grad.zero_()\n",
        "\n",
        "roots = [a.item(), b.item()]"
      ],
      "metadata": {
        "id": "Hn1iUVMJuthg"
      },
      "execution_count": 57,
      "outputs": []
    },
    {
      "cell_type": "code",
      "execution_count": 58,
      "metadata": {
        "colab": {
          "base_uri": "https://localhost:8080/"
        },
        "id": "jxgAeWjSzVxY",
        "outputId": "01f4aa18-d397-45ef-b983-a901036080b2"
      },
      "outputs": [
        {
          "output_type": "execute_result",
          "data": {
            "text/plain": [
              "[0.2679491937160492, 3.732050895690918]"
            ]
          },
          "metadata": {},
          "execution_count": 58
        }
      ],
      "source": [
        "# YOUR CHANGES HERE\n",
        "roots"
      ]
    },
    {
      "cell_type": "markdown",
      "metadata": {
        "id": "uQN5oa87uUcM"
      },
      "source": [
        "## Problem 2 - Implement Logistic Regression\n",
        "\n",
        "Implement logistic regression in PyTorch to predict the outcome column of the Pima Indians Diabetes data set."
      ]
    },
    {
      "cell_type": "code",
      "execution_count": 59,
      "metadata": {
        "id": "pGR8SPRjyWd0"
      },
      "outputs": [],
      "source": [
        "import numpy as np\n",
        "import pandas as pd"
      ]
    },
    {
      "cell_type": "code",
      "execution_count": 60,
      "metadata": {
        "colab": {
          "base_uri": "https://localhost:8080/",
          "height": 226
        },
        "id": "30JCw4JtyP4T",
        "outputId": "5ca0dfcd-459d-4468-de34-1505c9da5304"
      },
      "outputs": [
        {
          "output_type": "execute_result",
          "data": {
            "text/plain": [
              "   Pregnancies  Glucose  BloodPressure  SkinThickness  Insulin   BMI  \\\n",
              "0            6      148             72             35        0  33.6   \n",
              "1            1       85             66             29        0  26.6   \n",
              "2            8      183             64              0        0  23.3   \n",
              "3            1       89             66             23       94  28.1   \n",
              "4            0      137             40             35      168  43.1   \n",
              "\n",
              "   DiabetesPedigreeFunction  Age  Outcome  \n",
              "0                     0.627   50        1  \n",
              "1                     0.351   31        0  \n",
              "2                     0.672   32        1  \n",
              "3                     0.167   21        0  \n",
              "4                     2.288   33        1  "
            ],
            "text/html": [
              "\n",
              "  <div id=\"df-2d27433a-1896-48f5-a8a2-a4f5caa80134\" class=\"colab-df-container\">\n",
              "    <div>\n",
              "<style scoped>\n",
              "    .dataframe tbody tr th:only-of-type {\n",
              "        vertical-align: middle;\n",
              "    }\n",
              "\n",
              "    .dataframe tbody tr th {\n",
              "        vertical-align: top;\n",
              "    }\n",
              "\n",
              "    .dataframe thead th {\n",
              "        text-align: right;\n",
              "    }\n",
              "</style>\n",
              "<table border=\"1\" class=\"dataframe\">\n",
              "  <thead>\n",
              "    <tr style=\"text-align: right;\">\n",
              "      <th></th>\n",
              "      <th>Pregnancies</th>\n",
              "      <th>Glucose</th>\n",
              "      <th>BloodPressure</th>\n",
              "      <th>SkinThickness</th>\n",
              "      <th>Insulin</th>\n",
              "      <th>BMI</th>\n",
              "      <th>DiabetesPedigreeFunction</th>\n",
              "      <th>Age</th>\n",
              "      <th>Outcome</th>\n",
              "    </tr>\n",
              "  </thead>\n",
              "  <tbody>\n",
              "    <tr>\n",
              "      <th>0</th>\n",
              "      <td>6</td>\n",
              "      <td>148</td>\n",
              "      <td>72</td>\n",
              "      <td>35</td>\n",
              "      <td>0</td>\n",
              "      <td>33.6</td>\n",
              "      <td>0.627</td>\n",
              "      <td>50</td>\n",
              "      <td>1</td>\n",
              "    </tr>\n",
              "    <tr>\n",
              "      <th>1</th>\n",
              "      <td>1</td>\n",
              "      <td>85</td>\n",
              "      <td>66</td>\n",
              "      <td>29</td>\n",
              "      <td>0</td>\n",
              "      <td>26.6</td>\n",
              "      <td>0.351</td>\n",
              "      <td>31</td>\n",
              "      <td>0</td>\n",
              "    </tr>\n",
              "    <tr>\n",
              "      <th>2</th>\n",
              "      <td>8</td>\n",
              "      <td>183</td>\n",
              "      <td>64</td>\n",
              "      <td>0</td>\n",
              "      <td>0</td>\n",
              "      <td>23.3</td>\n",
              "      <td>0.672</td>\n",
              "      <td>32</td>\n",
              "      <td>1</td>\n",
              "    </tr>\n",
              "    <tr>\n",
              "      <th>3</th>\n",
              "      <td>1</td>\n",
              "      <td>89</td>\n",
              "      <td>66</td>\n",
              "      <td>23</td>\n",
              "      <td>94</td>\n",
              "      <td>28.1</td>\n",
              "      <td>0.167</td>\n",
              "      <td>21</td>\n",
              "      <td>0</td>\n",
              "    </tr>\n",
              "    <tr>\n",
              "      <th>4</th>\n",
              "      <td>0</td>\n",
              "      <td>137</td>\n",
              "      <td>40</td>\n",
              "      <td>35</td>\n",
              "      <td>168</td>\n",
              "      <td>43.1</td>\n",
              "      <td>2.288</td>\n",
              "      <td>33</td>\n",
              "      <td>1</td>\n",
              "    </tr>\n",
              "  </tbody>\n",
              "</table>\n",
              "</div>\n",
              "    <div class=\"colab-df-buttons\">\n",
              "\n",
              "  <div class=\"colab-df-container\">\n",
              "    <button class=\"colab-df-convert\" onclick=\"convertToInteractive('df-2d27433a-1896-48f5-a8a2-a4f5caa80134')\"\n",
              "            title=\"Convert this dataframe to an interactive table.\"\n",
              "            style=\"display:none;\">\n",
              "\n",
              "  <svg xmlns=\"http://www.w3.org/2000/svg\" height=\"24px\" viewBox=\"0 -960 960 960\">\n",
              "    <path d=\"M120-120v-720h720v720H120Zm60-500h600v-160H180v160Zm220 220h160v-160H400v160Zm0 220h160v-160H400v160ZM180-400h160v-160H180v160Zm440 0h160v-160H620v160ZM180-180h160v-160H180v160Zm440 0h160v-160H620v160Z\"/>\n",
              "  </svg>\n",
              "    </button>\n",
              "\n",
              "  <style>\n",
              "    .colab-df-container {\n",
              "      display:flex;\n",
              "      gap: 12px;\n",
              "    }\n",
              "\n",
              "    .colab-df-convert {\n",
              "      background-color: #E8F0FE;\n",
              "      border: none;\n",
              "      border-radius: 50%;\n",
              "      cursor: pointer;\n",
              "      display: none;\n",
              "      fill: #1967D2;\n",
              "      height: 32px;\n",
              "      padding: 0 0 0 0;\n",
              "      width: 32px;\n",
              "    }\n",
              "\n",
              "    .colab-df-convert:hover {\n",
              "      background-color: #E2EBFA;\n",
              "      box-shadow: 0px 1px 2px rgba(60, 64, 67, 0.3), 0px 1px 3px 1px rgba(60, 64, 67, 0.15);\n",
              "      fill: #174EA6;\n",
              "    }\n",
              "\n",
              "    .colab-df-buttons div {\n",
              "      margin-bottom: 4px;\n",
              "    }\n",
              "\n",
              "    [theme=dark] .colab-df-convert {\n",
              "      background-color: #3B4455;\n",
              "      fill: #D2E3FC;\n",
              "    }\n",
              "\n",
              "    [theme=dark] .colab-df-convert:hover {\n",
              "      background-color: #434B5C;\n",
              "      box-shadow: 0px 1px 3px 1px rgba(0, 0, 0, 0.15);\n",
              "      filter: drop-shadow(0px 1px 2px rgba(0, 0, 0, 0.3));\n",
              "      fill: #FFFFFF;\n",
              "    }\n",
              "  </style>\n",
              "\n",
              "    <script>\n",
              "      const buttonEl =\n",
              "        document.querySelector('#df-2d27433a-1896-48f5-a8a2-a4f5caa80134 button.colab-df-convert');\n",
              "      buttonEl.style.display =\n",
              "        google.colab.kernel.accessAllowed ? 'block' : 'none';\n",
              "\n",
              "      async function convertToInteractive(key) {\n",
              "        const element = document.querySelector('#df-2d27433a-1896-48f5-a8a2-a4f5caa80134');\n",
              "        const dataTable =\n",
              "          await google.colab.kernel.invokeFunction('convertToInteractive',\n",
              "                                                    [key], {});\n",
              "        if (!dataTable) return;\n",
              "\n",
              "        const docLinkHtml = 'Like what you see? Visit the ' +\n",
              "          '<a target=\"_blank\" href=https://colab.research.google.com/notebooks/data_table.ipynb>data table notebook</a>'\n",
              "          + ' to learn more about interactive tables.';\n",
              "        element.innerHTML = '';\n",
              "        dataTable['output_type'] = 'display_data';\n",
              "        await google.colab.output.renderOutput(dataTable, element);\n",
              "        const docLink = document.createElement('div');\n",
              "        docLink.innerHTML = docLinkHtml;\n",
              "        element.appendChild(docLink);\n",
              "      }\n",
              "    </script>\n",
              "  </div>\n",
              "\n",
              "\n",
              "    <div id=\"df-21637320-317b-420e-9756-1783436ad011\">\n",
              "      <button class=\"colab-df-quickchart\" onclick=\"quickchart('df-21637320-317b-420e-9756-1783436ad011')\"\n",
              "                title=\"Suggest charts\"\n",
              "                style=\"display:none;\">\n",
              "\n",
              "<svg xmlns=\"http://www.w3.org/2000/svg\" height=\"24px\"viewBox=\"0 0 24 24\"\n",
              "     width=\"24px\">\n",
              "    <g>\n",
              "        <path d=\"M19 3H5c-1.1 0-2 .9-2 2v14c0 1.1.9 2 2 2h14c1.1 0 2-.9 2-2V5c0-1.1-.9-2-2-2zM9 17H7v-7h2v7zm4 0h-2V7h2v10zm4 0h-2v-4h2v4z\"/>\n",
              "    </g>\n",
              "</svg>\n",
              "      </button>\n",
              "\n",
              "<style>\n",
              "  .colab-df-quickchart {\n",
              "      --bg-color: #E8F0FE;\n",
              "      --fill-color: #1967D2;\n",
              "      --hover-bg-color: #E2EBFA;\n",
              "      --hover-fill-color: #174EA6;\n",
              "      --disabled-fill-color: #AAA;\n",
              "      --disabled-bg-color: #DDD;\n",
              "  }\n",
              "\n",
              "  [theme=dark] .colab-df-quickchart {\n",
              "      --bg-color: #3B4455;\n",
              "      --fill-color: #D2E3FC;\n",
              "      --hover-bg-color: #434B5C;\n",
              "      --hover-fill-color: #FFFFFF;\n",
              "      --disabled-bg-color: #3B4455;\n",
              "      --disabled-fill-color: #666;\n",
              "  }\n",
              "\n",
              "  .colab-df-quickchart {\n",
              "    background-color: var(--bg-color);\n",
              "    border: none;\n",
              "    border-radius: 50%;\n",
              "    cursor: pointer;\n",
              "    display: none;\n",
              "    fill: var(--fill-color);\n",
              "    height: 32px;\n",
              "    padding: 0;\n",
              "    width: 32px;\n",
              "  }\n",
              "\n",
              "  .colab-df-quickchart:hover {\n",
              "    background-color: var(--hover-bg-color);\n",
              "    box-shadow: 0 1px 2px rgba(60, 64, 67, 0.3), 0 1px 3px 1px rgba(60, 64, 67, 0.15);\n",
              "    fill: var(--button-hover-fill-color);\n",
              "  }\n",
              "\n",
              "  .colab-df-quickchart-complete:disabled,\n",
              "  .colab-df-quickchart-complete:disabled:hover {\n",
              "    background-color: var(--disabled-bg-color);\n",
              "    fill: var(--disabled-fill-color);\n",
              "    box-shadow: none;\n",
              "  }\n",
              "\n",
              "  .colab-df-spinner {\n",
              "    border: 2px solid var(--fill-color);\n",
              "    border-color: transparent;\n",
              "    border-bottom-color: var(--fill-color);\n",
              "    animation:\n",
              "      spin 1s steps(1) infinite;\n",
              "  }\n",
              "\n",
              "  @keyframes spin {\n",
              "    0% {\n",
              "      border-color: transparent;\n",
              "      border-bottom-color: var(--fill-color);\n",
              "      border-left-color: var(--fill-color);\n",
              "    }\n",
              "    20% {\n",
              "      border-color: transparent;\n",
              "      border-left-color: var(--fill-color);\n",
              "      border-top-color: var(--fill-color);\n",
              "    }\n",
              "    30% {\n",
              "      border-color: transparent;\n",
              "      border-left-color: var(--fill-color);\n",
              "      border-top-color: var(--fill-color);\n",
              "      border-right-color: var(--fill-color);\n",
              "    }\n",
              "    40% {\n",
              "      border-color: transparent;\n",
              "      border-right-color: var(--fill-color);\n",
              "      border-top-color: var(--fill-color);\n",
              "    }\n",
              "    60% {\n",
              "      border-color: transparent;\n",
              "      border-right-color: var(--fill-color);\n",
              "    }\n",
              "    80% {\n",
              "      border-color: transparent;\n",
              "      border-right-color: var(--fill-color);\n",
              "      border-bottom-color: var(--fill-color);\n",
              "    }\n",
              "    90% {\n",
              "      border-color: transparent;\n",
              "      border-bottom-color: var(--fill-color);\n",
              "    }\n",
              "  }\n",
              "</style>\n",
              "\n",
              "      <script>\n",
              "        async function quickchart(key) {\n",
              "          const quickchartButtonEl =\n",
              "            document.querySelector('#' + key + ' button');\n",
              "          quickchartButtonEl.disabled = true;  // To prevent multiple clicks.\n",
              "          quickchartButtonEl.classList.add('colab-df-spinner');\n",
              "          try {\n",
              "            const charts = await google.colab.kernel.invokeFunction(\n",
              "                'suggestCharts', [key], {});\n",
              "          } catch (error) {\n",
              "            console.error('Error during call to suggestCharts:', error);\n",
              "          }\n",
              "          quickchartButtonEl.classList.remove('colab-df-spinner');\n",
              "          quickchartButtonEl.classList.add('colab-df-quickchart-complete');\n",
              "        }\n",
              "        (() => {\n",
              "          let quickchartButtonEl =\n",
              "            document.querySelector('#df-21637320-317b-420e-9756-1783436ad011 button');\n",
              "          quickchartButtonEl.style.display =\n",
              "            google.colab.kernel.accessAllowed ? 'block' : 'none';\n",
              "        })();\n",
              "      </script>\n",
              "    </div>\n",
              "\n",
              "    </div>\n",
              "  </div>\n"
            ],
            "application/vnd.google.colaboratory.intrinsic+json": {
              "type": "dataframe",
              "variable_name": "df",
              "summary": "{\n  \"name\": \"df\",\n  \"rows\": 768,\n  \"fields\": [\n    {\n      \"column\": \"Pregnancies\",\n      \"properties\": {\n        \"dtype\": \"number\",\n        \"std\": 3,\n        \"min\": 0,\n        \"max\": 17,\n        \"num_unique_values\": 17,\n        \"samples\": [\n          6,\n          1,\n          3\n        ],\n        \"semantic_type\": \"\",\n        \"description\": \"\"\n      }\n    },\n    {\n      \"column\": \"Glucose\",\n      \"properties\": {\n        \"dtype\": \"number\",\n        \"std\": 31,\n        \"min\": 0,\n        \"max\": 199,\n        \"num_unique_values\": 136,\n        \"samples\": [\n          151,\n          101,\n          112\n        ],\n        \"semantic_type\": \"\",\n        \"description\": \"\"\n      }\n    },\n    {\n      \"column\": \"BloodPressure\",\n      \"properties\": {\n        \"dtype\": \"number\",\n        \"std\": 19,\n        \"min\": 0,\n        \"max\": 122,\n        \"num_unique_values\": 47,\n        \"samples\": [\n          86,\n          46,\n          85\n        ],\n        \"semantic_type\": \"\",\n        \"description\": \"\"\n      }\n    },\n    {\n      \"column\": \"SkinThickness\",\n      \"properties\": {\n        \"dtype\": \"number\",\n        \"std\": 15,\n        \"min\": 0,\n        \"max\": 99,\n        \"num_unique_values\": 51,\n        \"samples\": [\n          7,\n          12,\n          48\n        ],\n        \"semantic_type\": \"\",\n        \"description\": \"\"\n      }\n    },\n    {\n      \"column\": \"Insulin\",\n      \"properties\": {\n        \"dtype\": \"number\",\n        \"std\": 115,\n        \"min\": 0,\n        \"max\": 846,\n        \"num_unique_values\": 186,\n        \"samples\": [\n          52,\n          41,\n          183\n        ],\n        \"semantic_type\": \"\",\n        \"description\": \"\"\n      }\n    },\n    {\n      \"column\": \"BMI\",\n      \"properties\": {\n        \"dtype\": \"number\",\n        \"std\": 7.8841603203754405,\n        \"min\": 0.0,\n        \"max\": 67.1,\n        \"num_unique_values\": 248,\n        \"samples\": [\n          19.9,\n          31.0,\n          38.1\n        ],\n        \"semantic_type\": \"\",\n        \"description\": \"\"\n      }\n    },\n    {\n      \"column\": \"DiabetesPedigreeFunction\",\n      \"properties\": {\n        \"dtype\": \"number\",\n        \"std\": 0.33132859501277484,\n        \"min\": 0.078,\n        \"max\": 2.42,\n        \"num_unique_values\": 517,\n        \"samples\": [\n          1.731,\n          0.426,\n          0.138\n        ],\n        \"semantic_type\": \"\",\n        \"description\": \"\"\n      }\n    },\n    {\n      \"column\": \"Age\",\n      \"properties\": {\n        \"dtype\": \"number\",\n        \"std\": 11,\n        \"min\": 21,\n        \"max\": 81,\n        \"num_unique_values\": 52,\n        \"samples\": [\n          60,\n          47,\n          72\n        ],\n        \"semantic_type\": \"\",\n        \"description\": \"\"\n      }\n    },\n    {\n      \"column\": \"Outcome\",\n      \"properties\": {\n        \"dtype\": \"number\",\n        \"std\": 0,\n        \"min\": 0,\n        \"max\": 1,\n        \"num_unique_values\": 2,\n        \"samples\": [\n          0,\n          1\n        ],\n        \"semantic_type\": \"\",\n        \"description\": \"\"\n      }\n    }\n  ]\n}"
            }
          },
          "metadata": {},
          "execution_count": 60
        }
      ],
      "source": [
        "df = pd.read_csv(\"https://github.com/npradaschnor/Pima-Indians-Diabetes-Dataset/raw/refs/heads/master/diabetes.csv\")\n",
        "df.head()"
      ]
    },
    {
      "cell_type": "code",
      "execution_count": 61,
      "metadata": {
        "id": "lsWgbTdryuZn"
      },
      "outputs": [],
      "source": [
        "input_df = df.drop(columns=[\"Outcome\"])\n",
        "target = df[\"Outcome\"]"
      ]
    },
    {
      "cell_type": "markdown",
      "metadata": {
        "id": "dmIKSJ6FwnMs"
      },
      "source": [
        "### Part A - Setup the Logistic Regression and Prediction Function"
      ]
    },
    {
      "cell_type": "code",
      "execution_count": 108,
      "metadata": {
        "id": "XdIQJqO3yALF"
      },
      "outputs": [],
      "source": [
        "# YOUR CHANGES HERE\n",
        "n_features = 8\n",
        "weights = torch.randn(n_features, requires_grad=True)\n",
        "bias = torch.zeros(1, requires_grad=True)\n",
        "\n",
        "def predict(X, weights, bias):\n",
        "    \"\"\"\n",
        "    Logistic regression prediction function using torch.sigmoid()\n",
        "    \"\"\"\n",
        "    # Linear combination: z = X * weights + bias\n",
        "    z = torch.matmul(X, weights) + bias\n",
        "\n",
        "    # Apply sigmoid\n",
        "    predictions = torch.sigmoid(z)\n",
        "\n",
        "    return predictions"
      ]
    },
    {
      "cell_type": "markdown",
      "metadata": {
        "id": "LRSA84-Swu4A"
      },
      "source": [
        "### Part B - Write a Function Calculating the Loss for this Logistic Regression"
      ]
    },
    {
      "cell_type": "code",
      "execution_count": 109,
      "metadata": {
        "colab": {
          "base_uri": "https://localhost:8080/"
        },
        "id": "pksb41sox_rg",
        "outputId": "9ac082df-e8db-42e6-85fc-cf20af95d548"
      },
      "outputs": [
        {
          "output_type": "stream",
          "name": "stdout",
          "text": [
            "\n",
            "Part B - Loss Function Defined\n"
          ]
        }
      ],
      "source": [
        "# YOUR CHANGES HERE\n",
        "# sigmoid function\n",
        "def compute_loss(y_true, y_pred):\n",
        "    \"\"\"\n",
        "    Binary cross-entropy loss: -(1/m) * Σ[y*log(ŷ) + (1-y)*log(1-ŷ)]\n",
        "    \"\"\"\n",
        "    eps = 1e-15  # Small value to prevent log(0)\n",
        "    m = y_true.shape[0]\n",
        "    loss = -(1/m) * torch.sum(\n",
        "        y_true * torch.log(y_pred + eps) +\n",
        "        (1 - y_true) * torch.log(1 - y_pred + eps)\n",
        "    )\n",
        "    return loss\n",
        "\n",
        "print(\"\\nPart B - Loss Function Defined\")"
      ]
    },
    {
      "cell_type": "markdown",
      "metadata": {
        "id": "PG7wQYd0w_Rr"
      },
      "source": [
        "### Part C - Optimize the Logistic Regression Parameters using Gradient Descent"
      ]
    },
    {
      "cell_type": "code",
      "execution_count": 110,
      "metadata": {
        "colab": {
          "base_uri": "https://localhost:8080/"
        },
        "id": "oFhz3Tzzx_Kk",
        "outputId": "4f4f7a62-3b59-417b-c7a6-c99596db1402"
      },
      "outputs": [
        {
          "output_type": "stream",
          "name": "stdout",
          "text": [
            "\n",
            "Part C - Training Logistic Regression...\n",
            "Step 0, Loss: 12.1072\n",
            "Step 100, Loss: 22.4862\n",
            "Step 200, Loss: 22.4862\n",
            "Step 300, Loss: 22.4862\n",
            "Step 400, Loss: 22.4862\n",
            "Step 500, Loss: 22.4862\n",
            "Step 600, Loss: 22.4862\n",
            "Step 700, Loss: 22.4862\n",
            "Step 800, Loss: 22.4862\n",
            "Step 900, Loss: 22.4862\n",
            "\n",
            "Final Accuracy: 0.3490\n"
          ]
        }
      ],
      "source": [
        "def train_logistic_regression(X, y, weights, bias, lr=0.01, steps=1000):\n",
        "    \"\"\"\n",
        "    Train logistic regression using gradient descent\n",
        "    \"\"\"\n",
        "    loss_history = []\n",
        "\n",
        "    for t in range(steps):\n",
        "        # Zero gradients at the start of each iteration\n",
        "        if weights.grad is not None:\n",
        "            weights.grad.zero_()\n",
        "        if bias.grad is not None:\n",
        "            bias.grad.zero_()\n",
        "\n",
        "        # Forward pass\n",
        "        y_pred = predict(X, weights, bias)\n",
        "\n",
        "        # Compute loss\n",
        "        loss = compute_loss(y, y_pred)\n",
        "        loss_history.append(loss.item())\n",
        "\n",
        "        # Backward pass\n",
        "        loss.backward()\n",
        "\n",
        "        # Update parameters manually (no optimizer)\n",
        "        with torch.no_grad():\n",
        "            weights.data -= lr * weights.grad\n",
        "            bias.data -= lr * bias.grad\n",
        "\n",
        "        # Print progress every 100 steps\n",
        "        if t % 100 == 0:\n",
        "            print(f'Step {t}, Loss: {loss.item():.4f}')\n",
        "\n",
        "    return loss_history\n",
        "\n",
        "print(\"\\nPart C - Training Logistic Regression...\")\n",
        "\n",
        "# Train the model\n",
        "loss_history = train_logistic_regression(X, y, weights, bias, lr=0.1, steps=1000)\n",
        "\n",
        "# Calculate final accuracy\n",
        "with torch.no_grad():\n",
        "    final_predictions = predict(X, weights, bias)\n",
        "    binary_predictions = (final_predictions >= 0.5).float()\n",
        "    accuracy = torch.mean((binary_predictions == y).float())\n",
        "    print(f\"\\nFinal Accuracy: {accuracy.item():.4f}\")\n"
      ]
    },
    {
      "cell_type": "markdown",
      "metadata": {
        "id": "qvXZDQkHw6Qs"
      },
      "source": [
        "### Part D - Plot Ground Truth vs Predicted Probabilities\n",
        "\n",
        "Make a scatter plot where your logistic regression's predictions for each row of the data set are the x-axis, and the actual outcome is the y axis."
      ]
    },
    {
      "cell_type": "code",
      "execution_count": 111,
      "metadata": {
        "colab": {
          "base_uri": "https://localhost:8080/",
          "height": 986
        },
        "id": "UWNf5Up7x-vI",
        "outputId": "2c4d5e12-df58-4f8a-aca0-6e47502c11d4"
      },
      "outputs": [
        {
          "output_type": "stream",
          "name": "stdout",
          "text": [
            "\n",
            "Part D - Plotting Results...\n"
          ]
        },
        {
          "output_type": "display_data",
          "data": {
            "text/plain": [
              "<Figure size 1000x600 with 1 Axes>"
            ],
            "image/png": "[encoded data removed]"
          },
          "metadata": {}
        },
        {
          "output_type": "display_data",
          "data": {
            "text/plain": [
              "<Figure size 800x500 with 1 Axes>"
            ],
            "image/png": "[encoded data removed]"
          },
          "metadata": {}
        },
        {
          "output_type": "stream",
          "name": "stdout",
          "text": [
            "\n",
            "All parts completed!\n",
            "==================================================\n",
            "SUMMARY:\n",
            "Dataset size: 768 samples, 8 features\n",
            "Final loss: 22.4862\n",
            "Final accuracy: 0.3490\n",
            "==================================================\n"
          ]
        }
      ],
      "source": [
        "def plot_predictions_vs_actual(X, y, weights, bias):\n",
        "    \"\"\"\n",
        "    Make a scatter plot where logistic regression predictions are x-axis\n",
        "    and actual outcomes are y-axis\n",
        "    \"\"\"\n",
        "    # Get predictions for all data points\n",
        "    with torch.no_grad():\n",
        "        predictions = predict(X, weights, bias)\n",
        "\n",
        "    # Convert to numpy for plotting\n",
        "    pred_probs = predictions.numpy()\n",
        "    actual_outcomes = y.numpy()\n",
        "\n",
        "    # Create scatter plot\n",
        "    plt.figure(figsize=(10, 6))\n",
        "\n",
        "    # Create scatter plot with different colors for each class\n",
        "    colors = ['blue' if outcome == 0 else 'red' for outcome in actual_outcomes]\n",
        "    plt.scatter(pred_probs, actual_outcomes, alpha=0.6, s=50, c=colors)\n",
        "\n",
        "    # Labels and title\n",
        "    plt.xlabel('Predicted Probabilities (Logistic Regression)')\n",
        "    plt.ylabel('Actual Outcome (Ground Truth)')\n",
        "    plt.title('Ground Truth vs Predicted Probabilities')\n",
        "    plt.grid(True, alpha=0.3)\n",
        "\n",
        "    # Add reference lines\n",
        "    plt.axhline(y=0.5, color='green', linestyle='--', alpha=0.5, label='y = 0.5')\n",
        "    plt.axvline(x=0.5, color='green', linestyle='--', alpha=0.5, label='x = 0.5 (decision boundary)')\n",
        "\n",
        "    # Add accuracy information\n",
        "    accuracy = torch.mean(((predictions >= 0.5).float() == y).float())\n",
        "    plt.text(0.05, 0.95, f'Accuracy: {accuracy.item():.3f}',\n",
        "             transform=plt.gca().transAxes, fontsize=12,\n",
        "             bbox=dict(boxstyle='round', facecolor='white', alpha=0.8))\n",
        "\n",
        "    # Add legend\n",
        "    plt.legend()\n",
        "\n",
        "    # Set axis limits\n",
        "    plt.xlim(-0.05, 1.05)\n",
        "    plt.ylim(-0.1, 1.1)\n",
        "\n",
        "    # Show plot\n",
        "    plt.show()\n",
        "\n",
        "print(\"\\nPart D - Plotting Results...\")\n",
        "\n",
        "# Create the scatter plot\n",
        "plot_predictions_vs_actual(X, y, weights, bias)\n",
        "\n",
        "# Also plot the training loss over time\n",
        "plt.figure(figsize=(8, 5))\n",
        "plt.plot(loss_history)\n",
        "plt.title('Training Loss Over Time')\n",
        "plt.xlabel('Training Steps')\n",
        "plt.ylabel('Binary Cross-Entropy Loss')\n",
        "plt.grid(True)\n",
        "plt.show()\n",
        "\n",
        "print(\"\\nAll parts completed!\")\n",
        "print(\"=\"*50)\n",
        "print(\"SUMMARY:\")\n",
        "print(f\"Dataset size: {X.shape[0]} samples, {X.shape[1]} features\")\n",
        "print(f\"Final loss: {loss_history[-1]:.4f}\")\n",
        "print(f\"Final accuracy: {accuracy.item():.4f}\")\n",
        "print(\"=\"*50)"
      ]
    },
    {
      "cell_type": "markdown",
      "metadata": {
        "id": "_sHzscj8xFhd"
      },
      "source": [
        "## Problem 3 - Implement a Shallow Neural Network\n",
        "\n",
        "Implement a neural network with one hidden layer to predict the outcome column of the Pima Indians Diabetes data set."
      ]
    },
    {
      "cell_type": "markdown",
      "metadata": {
        "id": "UiurHfjFxKqX"
      },
      "source": [
        "### Part A - Setup the Neural Network and Prediction Function"
      ]
    },
    {
      "cell_type": "code",
      "execution_count": 97,
      "metadata": {
        "id": "vwKkXibNx9pD"
      },
      "outputs": [],
      "source": [
        "# Part A - Setup the Neural Network and Prediction Function\n",
        "\n",
        "# Network architecture\n",
        "input_features = 8\n",
        "hidden_units = 10  # You can adjust this\n",
        "output_units = 1\n",
        "\n",
        "# Initialize weights and biases for hidden layer\n",
        "W1 = torch.randn(input_features, hidden_units, requires_grad=True) * 0.1\n",
        "b1 = torch.zeros(hidden_units, requires_grad=True)\n",
        "\n",
        "# Initialize weights and biases for output layer\n",
        "W2 = torch.randn(hidden_units, output_units, requires_grad=True) * 0.1\n",
        "b2 = torch.zeros(output_units, requires_grad=True)\n",
        "\n",
        "# Activation functions\n",
        "def sigmoid(z):\n",
        "    return 1 / (1 + torch.exp(-z))\n",
        "\n",
        "def relu(z):\n",
        "    return torch.maximum(torch.tensor(0.0), z)\n",
        "\n",
        "# Neural network prediction function\n",
        "def predict_nn(X, W1, b1, W2, b2):\n",
        "    # Forward pass through hidden layer\n",
        "    z1 = torch.matmul(X, W1) + b1  # Linear combination\n",
        "    a1 = relu(z1)  # ReLU activation\n",
        "\n",
        "    # Forward pass through output layer\n",
        "    z2 = torch.matmul(a1, W2) + b2  # Linear combination\n",
        "    a2 = sigmoid(z2)  # Sigmoid activation for binary classification\n",
        "\n",
        "    return a2.squeeze()  # Remove extra dimension"
      ]
    },
    {
      "cell_type": "markdown",
      "metadata": {
        "id": "psGkbbLYxU1M"
      },
      "source": [
        "### Part B - Write a Function Calculating the Loss for the Neural Network"
      ]
    },
    {
      "cell_type": "code",
      "execution_count": 98,
      "metadata": {
        "id": "AvRlq0SCx9K1"
      },
      "outputs": [],
      "source": [
        "def compute_nn_loss(y_true, y_pred):\n",
        "    # Binary cross-entropy loss\n",
        "    eps = 1e-15  # Small value to prevent log(0)\n",
        "    m = y_true.shape[0]\n",
        "    loss = -(1/m) * torch.sum(\n",
        "        y_true * torch.log(y_pred + eps) +\n",
        "        (1 - y_true) * torch.log(1 - y_pred + eps)\n",
        "    )\n",
        "    return loss"
      ]
    },
    {
      "cell_type": "markdown",
      "metadata": {
        "id": "gQ41L4_jxZJ5"
      },
      "source": [
        "### Part C - Optimize the Neural Network with Gradient Descent"
      ]
    },
    {
      "cell_type": "code",
      "execution_count": 99,
      "metadata": {
        "colab": {
          "base_uri": "https://localhost:8080/",
          "height": 736
        },
        "id": "9j2htPTXx8pS",
        "outputId": "aa708f51-91ae-44bc-90a1-bd25732911d5"
      },
      "outputs": [
        {
          "output_type": "stream",
          "name": "stdout",
          "text": [
            "Neural Network Architecture:\n",
            "Input features: 8\n",
            "Hidden units: 10\n",
            "Output units: 1\n",
            "Total parameters: 101\n",
            "\n",
            "Initial weights shapes:\n",
            "W1: torch.Size([8, 10]), b1: torch.Size([10])\n",
            "W2: torch.Size([10, 1]), b2: torch.Size([1])\n",
            "\n",
            "Training Neural Network...\n"
          ]
        },
        {
          "output_type": "stream",
          "name": "stderr",
          "text": [
            "/tmp/ipython-input-86617739.py:6: UserWarning: The .grad attribute of a Tensor that is not a leaf Tensor is being accessed. Its .grad attribute won't be populated during autograd.backward(). If you indeed want the .grad field to be populated for a non-leaf Tensor, use .retain_grad() on the non-leaf Tensor. If you access the non-leaf Tensor by mistake, make sure you access the leaf Tensor instead. See github.com/pytorch/pytorch/pull/30531 for more informations. (Triggered internally at /pytorch/build/aten/src/ATen/core/TensorBody.h:489.)\n",
            "  if W1.grad is not None:\n",
            "/tmp/ipython-input-86617739.py:10: UserWarning: The .grad attribute of a Tensor that is not a leaf Tensor is being accessed. Its .grad attribute won't be populated during autograd.backward(). If you indeed want the .grad field to be populated for a non-leaf Tensor, use .retain_grad() on the non-leaf Tensor. If you access the non-leaf Tensor by mistake, make sure you access the leaf Tensor instead. See github.com/pytorch/pytorch/pull/30531 for more informations. (Triggered internally at /pytorch/build/aten/src/ATen/core/TensorBody.h:489.)\n",
            "  if W2.grad is not None:\n",
            "/tmp/ipython-input-86617739.py:27: UserWarning: The .grad attribute of a Tensor that is not a leaf Tensor is being accessed. Its .grad attribute won't be populated during autograd.backward(). If you indeed want the .grad field to be populated for a non-leaf Tensor, use .retain_grad() on the non-leaf Tensor. If you access the non-leaf Tensor by mistake, make sure you access the leaf Tensor instead. See github.com/pytorch/pytorch/pull/30531 for more informations. (Triggered internally at /pytorch/build/aten/src/ATen/core/TensorBody.h:489.)\n",
            "  W1 -= lr * W1.grad\n"
          ]
        },
        {
          "output_type": "error",
          "ename": "TypeError",
          "evalue": "unsupported operand type(s) for *: 'float' and 'NoneType'",
          "traceback": [
            "\u001b[0;31m---------------------------------------------------------------------------\u001b[0m",
            "\u001b[0;31mTypeError\u001b[0m                                 Traceback (most recent call last)",
            "\u001b[0;32m/tmp/ipython-input-86617739.py\u001b[0m in \u001b[0;36m<cell line: 0>\u001b[0;34m()\u001b[0m\n\u001b[1;32m     52\u001b[0m \u001b[0;31m# Train the neural network\u001b[0m\u001b[0;34m\u001b[0m\u001b[0;34m\u001b[0m\u001b[0m\n\u001b[1;32m     53\u001b[0m \u001b[0mprint\u001b[0m\u001b[0;34m(\u001b[0m\u001b[0;34m\"\\nTraining Neural Network...\"\u001b[0m\u001b[0;34m)\u001b[0m\u001b[0;34m\u001b[0m\u001b[0;34m\u001b[0m\u001b[0m\n\u001b[0;32m---> 54\u001b[0;31m \u001b[0mloss_history\u001b[0m \u001b[0;34m=\u001b[0m \u001b[0mtrain_neural_network\u001b[0m\u001b[0;34m(\u001b[0m\u001b[0mX\u001b[0m\u001b[0;34m,\u001b[0m \u001b[0my\u001b[0m\u001b[0;34m,\u001b[0m \u001b[0mW1\u001b[0m\u001b[0;34m,\u001b[0m \u001b[0mb1\u001b[0m\u001b[0;34m,\u001b[0m \u001b[0mW2\u001b[0m\u001b[0;34m,\u001b[0m \u001b[0mb2\u001b[0m\u001b[0;34m,\u001b[0m \u001b[0mlr\u001b[0m\u001b[0;34m=\u001b[0m\u001b[0;36m0.1\u001b[0m\u001b[0;34m,\u001b[0m \u001b[0mepochs\u001b[0m\u001b[0;34m=\u001b[0m\u001b[0;36m1000\u001b[0m\u001b[0;34m)\u001b[0m\u001b[0;34m\u001b[0m\u001b[0;34m\u001b[0m\u001b[0m\n\u001b[0m\u001b[1;32m     55\u001b[0m \u001b[0;34m\u001b[0m\u001b[0m\n\u001b[1;32m     56\u001b[0m \u001b[0;31m# Make predictions and calculate accuracy\u001b[0m\u001b[0;34m\u001b[0m\u001b[0;34m\u001b[0m\u001b[0m\n",
            "\u001b[0;32m/tmp/ipython-input-86617739.py\u001b[0m in \u001b[0;36mtrain_neural_network\u001b[0;34m(X, y, W1, b1, W2, b2, lr, epochs)\u001b[0m\n\u001b[1;32m     25\u001b[0m         \u001b[0;31m# Update parameters manually (no optimizer)\u001b[0m\u001b[0;34m\u001b[0m\u001b[0;34m\u001b[0m\u001b[0m\n\u001b[1;32m     26\u001b[0m         \u001b[0;32mwith\u001b[0m \u001b[0mtorch\u001b[0m\u001b[0;34m.\u001b[0m\u001b[0mno_grad\u001b[0m\u001b[0;34m(\u001b[0m\u001b[0;34m)\u001b[0m\u001b[0;34m:\u001b[0m\u001b[0;34m\u001b[0m\u001b[0;34m\u001b[0m\u001b[0m\n\u001b[0;32m---> 27\u001b[0;31m             \u001b[0mW1\u001b[0m \u001b[0;34m-=\u001b[0m \u001b[0mlr\u001b[0m \u001b[0;34m*\u001b[0m \u001b[0mW1\u001b[0m\u001b[0;34m.\u001b[0m\u001b[0mgrad\u001b[0m\u001b[0;34m\u001b[0m\u001b[0;34m\u001b[0m\u001b[0m\n\u001b[0m\u001b[1;32m     28\u001b[0m             \u001b[0mb1\u001b[0m \u001b[0;34m-=\u001b[0m \u001b[0mlr\u001b[0m \u001b[0;34m*\u001b[0m \u001b[0mb1\u001b[0m\u001b[0;34m.\u001b[0m\u001b[0mgrad\u001b[0m\u001b[0;34m\u001b[0m\u001b[0;34m\u001b[0m\u001b[0m\n\u001b[1;32m     29\u001b[0m             \u001b[0mW2\u001b[0m \u001b[0;34m-=\u001b[0m \u001b[0mlr\u001b[0m \u001b[0;34m*\u001b[0m \u001b[0mW2\u001b[0m\u001b[0;34m.\u001b[0m\u001b[0mgrad\u001b[0m\u001b[0;34m\u001b[0m\u001b[0;34m\u001b[0m\u001b[0m\n",
            "\u001b[0;31mTypeError\u001b[0m: unsupported operand type(s) for *: 'float' and 'NoneType'"
          ]
        }
      ],
      "source": [
        "def train_neural_network(X, y, W1, b1, W2, b2, lr=0.01, epochs=1000):\n",
        "    loss_history = []\n",
        "\n",
        "    for epoch in range(epochs):\n",
        "        # Zero gradients first\n",
        "        if W1.grad is not None:\n",
        "            W1.grad.zero_()\n",
        "        if b1.grad is not None:\n",
        "            b1.grad.zero_()\n",
        "        if W2.grad is not None:\n",
        "            W2.grad.zero_()\n",
        "        if b2.grad is not None:\n",
        "            b2.grad.zero_()\n",
        "\n",
        "        # Forward pass\n",
        "        y_pred = predict_nn(X, W1, b1, W2, b2)\n",
        "\n",
        "        # Compute loss\n",
        "        loss = compute_nn_loss(y, y_pred)\n",
        "        loss_history.append(loss.item())\n",
        "\n",
        "        # Backward pass\n",
        "        loss.backward()\n",
        "\n",
        "        # Update parameters manually (no optimizer)\n",
        "        with torch.no_grad():\n",
        "            W1 -= lr * W1.grad\n",
        "            b1 -= lr * b1.grad\n",
        "            W2 -= lr * W2.grad\n",
        "            b2 -= lr * b2.grad\n",
        "\n",
        "        # Print progress\n",
        "        if epoch % 100 == 0:\n",
        "            print(f'Epoch {epoch}, Loss: {loss.item():.4f}')\n",
        "\n",
        "    return loss_history\n",
        "\n",
        "# Convert your pandas data to PyTorch tensors\n",
        "X = torch.tensor(input_df.values, dtype=torch.float32)\n",
        "y = torch.tensor(target.values, dtype=torch.float32)\n",
        "\n",
        "print(\"Neural Network Architecture:\")\n",
        "print(f\"Input features: {input_features}\")\n",
        "print(f\"Hidden units: {hidden_units}\")\n",
        "print(f\"Output units: {output_units}\")\n",
        "print(f\"Total parameters: {(input_features * hidden_units + hidden_units) + (hidden_units * output_units + output_units)}\")\n",
        "\n",
        "print(\"\\nInitial weights shapes:\")\n",
        "print(f\"W1: {W1.shape}, b1: {b1.shape}\")\n",
        "print(f\"W2: {W2.shape}, b2: {b2.shape}\")\n",
        "\n",
        "# Train the neural network\n",
        "print(\"\\nTraining Neural Network...\")\n",
        "loss_history = train_neural_network(X, y, W1, b1, W2, b2, lr=0.1, epochs=1000)\n",
        "\n",
        "# Make predictions and calculate accuracy\n",
        "with torch.no_grad():\n",
        "    final_predictions = predict_nn(X, W1, b1, W2, b2)\n",
        "    binary_predictions = (final_predictions >= 0.5).float()\n",
        "    accuracy = torch.mean((binary_predictions == y).float())\n",
        "    print(f\"\\nFinal Neural Network accuracy: {accuracy.item():.4f}\")"
      ]
    },
    {
      "cell_type": "markdown",
      "metadata": {
        "id": "DXB-MWCBxcxU"
      },
      "source": [
        "### Part D - Plot Ground Truth vs Predicted Probabilities\n",
        "\n",
        "Make a scatter plot where your neural network's predictions for each row of the data set are the x-axis, and the actual outcome is the y axis."
      ]
    },
    {
      "cell_type": "code",
      "execution_count": 102,
      "metadata": {
        "colab": {
          "base_uri": "https://localhost:8080/",
          "height": 736
        },
        "id": "Lo5mX-nTx6_J",
        "outputId": "68bc78d8-ccf6-4d29-ee93-a0862b643256"
      },
      "outputs": [
        {
          "output_type": "stream",
          "name": "stdout",
          "text": [
            "Neural Network Architecture:\n",
            "Input features: 8\n",
            "Hidden units: 10\n",
            "Output units: 1\n",
            "Total parameters: 101\n",
            "\n",
            "Initial weights shapes:\n",
            "W1: torch.Size([8, 10]), b1: torch.Size([10])\n",
            "W2: torch.Size([10, 1]), b2: torch.Size([1])\n",
            "\n",
            "Training Neural Network...\n"
          ]
        },
        {
          "output_type": "stream",
          "name": "stderr",
          "text": [
            "/tmp/ipython-input-328497374.py:58: UserWarning: The .grad attribute of a Tensor that is not a leaf Tensor is being accessed. Its .grad attribute won't be populated during autograd.backward(). If you indeed want the .grad field to be populated for a non-leaf Tensor, use .retain_grad() on the non-leaf Tensor. If you access the non-leaf Tensor by mistake, make sure you access the leaf Tensor instead. See github.com/pytorch/pytorch/pull/30531 for more informations. (Triggered internally at /pytorch/build/aten/src/ATen/core/TensorBody.h:489.)\n",
            "  if W1.grad is not None:\n",
            "/tmp/ipython-input-328497374.py:62: UserWarning: The .grad attribute of a Tensor that is not a leaf Tensor is being accessed. Its .grad attribute won't be populated during autograd.backward(). If you indeed want the .grad field to be populated for a non-leaf Tensor, use .retain_grad() on the non-leaf Tensor. If you access the non-leaf Tensor by mistake, make sure you access the leaf Tensor instead. See github.com/pytorch/pytorch/pull/30531 for more informations. (Triggered internally at /pytorch/build/aten/src/ATen/core/TensorBody.h:489.)\n",
            "  if W2.grad is not None:\n",
            "/tmp/ipython-input-328497374.py:79: UserWarning: The .grad attribute of a Tensor that is not a leaf Tensor is being accessed. Its .grad attribute won't be populated during autograd.backward(). If you indeed want the .grad field to be populated for a non-leaf Tensor, use .retain_grad() on the non-leaf Tensor. If you access the non-leaf Tensor by mistake, make sure you access the leaf Tensor instead. See github.com/pytorch/pytorch/pull/30531 for more informations. (Triggered internally at /pytorch/build/aten/src/ATen/core/TensorBody.h:489.)\n",
            "  W1.data -= lr * W1.grad\n"
          ]
        },
        {
          "output_type": "error",
          "ename": "TypeError",
          "evalue": "unsupported operand type(s) for *: 'float' and 'NoneType'",
          "traceback": [
            "\u001b[0;31m---------------------------------------------------------------------------\u001b[0m",
            "\u001b[0;31mTypeError\u001b[0m                                 Traceback (most recent call last)",
            "\u001b[0;32m/tmp/ipython-input-328497374.py\u001b[0m in \u001b[0;36m<cell line: 0>\u001b[0;34m()\u001b[0m\n\u001b[1;32m    111\u001b[0m \u001b[0;31m# Train the neural network\u001b[0m\u001b[0;34m\u001b[0m\u001b[0;34m\u001b[0m\u001b[0m\n\u001b[1;32m    112\u001b[0m \u001b[0mprint\u001b[0m\u001b[0;34m(\u001b[0m\u001b[0;34m\"\\nTraining Neural Network...\"\u001b[0m\u001b[0;34m)\u001b[0m\u001b[0;34m\u001b[0m\u001b[0;34m\u001b[0m\u001b[0m\n\u001b[0;32m--> 113\u001b[0;31m \u001b[0mloss_history\u001b[0m \u001b[0;34m=\u001b[0m \u001b[0mtrain_neural_network\u001b[0m\u001b[0;34m(\u001b[0m\u001b[0mX\u001b[0m\u001b[0;34m,\u001b[0m \u001b[0my\u001b[0m\u001b[0;34m,\u001b[0m \u001b[0mW1\u001b[0m\u001b[0;34m,\u001b[0m \u001b[0mb1\u001b[0m\u001b[0;34m,\u001b[0m \u001b[0mW2\u001b[0m\u001b[0;34m,\u001b[0m \u001b[0mb2\u001b[0m\u001b[0;34m,\u001b[0m \u001b[0mlr\u001b[0m\u001b[0;34m=\u001b[0m\u001b[0;36m0.1\u001b[0m\u001b[0;34m,\u001b[0m \u001b[0mepochs\u001b[0m\u001b[0;34m=\u001b[0m\u001b[0;36m1000\u001b[0m\u001b[0;34m)\u001b[0m\u001b[0;34m\u001b[0m\u001b[0;34m\u001b[0m\u001b[0m\n\u001b[0m\u001b[1;32m    114\u001b[0m \u001b[0;34m\u001b[0m\u001b[0m\n\u001b[1;32m    115\u001b[0m \u001b[0;31m# Make predictions and calculate accuracy\u001b[0m\u001b[0;34m\u001b[0m\u001b[0;34m\u001b[0m\u001b[0m\n",
            "\u001b[0;32m/tmp/ipython-input-328497374.py\u001b[0m in \u001b[0;36mtrain_neural_network\u001b[0;34m(X, y, W1, b1, W2, b2, lr, epochs)\u001b[0m\n\u001b[1;32m     77\u001b[0m         \u001b[0;31m# Update parameters manually (no optimizer)\u001b[0m\u001b[0;34m\u001b[0m\u001b[0;34m\u001b[0m\u001b[0m\n\u001b[1;32m     78\u001b[0m         \u001b[0;32mwith\u001b[0m \u001b[0mtorch\u001b[0m\u001b[0;34m.\u001b[0m\u001b[0mno_grad\u001b[0m\u001b[0;34m(\u001b[0m\u001b[0;34m)\u001b[0m\u001b[0;34m:\u001b[0m\u001b[0;34m\u001b[0m\u001b[0;34m\u001b[0m\u001b[0m\n\u001b[0;32m---> 79\u001b[0;31m             \u001b[0mW1\u001b[0m\u001b[0;34m.\u001b[0m\u001b[0mdata\u001b[0m \u001b[0;34m-=\u001b[0m \u001b[0mlr\u001b[0m \u001b[0;34m*\u001b[0m \u001b[0mW1\u001b[0m\u001b[0;34m.\u001b[0m\u001b[0mgrad\u001b[0m\u001b[0;34m\u001b[0m\u001b[0;34m\u001b[0m\u001b[0m\n\u001b[0m\u001b[1;32m     80\u001b[0m             \u001b[0mb1\u001b[0m\u001b[0;34m.\u001b[0m\u001b[0mdata\u001b[0m \u001b[0;34m-=\u001b[0m \u001b[0mlr\u001b[0m \u001b[0;34m*\u001b[0m \u001b[0mb1\u001b[0m\u001b[0;34m.\u001b[0m\u001b[0mgrad\u001b[0m\u001b[0;34m\u001b[0m\u001b[0;34m\u001b[0m\u001b[0m\n\u001b[1;32m     81\u001b[0m             \u001b[0mW2\u001b[0m\u001b[0;34m.\u001b[0m\u001b[0mdata\u001b[0m \u001b[0;34m-=\u001b[0m \u001b[0mlr\u001b[0m \u001b[0;34m*\u001b[0m \u001b[0mW2\u001b[0m\u001b[0;34m.\u001b[0m\u001b[0mgrad\u001b[0m\u001b[0;34m\u001b[0m\u001b[0;34m\u001b[0m\u001b[0m\n",
            "\u001b[0;31mTypeError\u001b[0m: unsupported operand type(s) for *: 'float' and 'NoneType'"
          ]
        }
      ],
      "source": [
        "import torch\n",
        "import numpy as np\n",
        "import matplotlib.pyplot as plt\n",
        "\n",
        "# Part A - Setup the Neural Network and Prediction Function\n",
        "\n",
        "# Network architecture\n",
        "input_features = 8 # You can adjust this\n",
        "output_units = 1\n",
        "\n",
        "# Initialize weights and biases for hidden layer\n",
        "W1 = torch.randn(input_features, hidden_units, requires_grad=True) * 0.1\n",
        "b1 = torch.zeros(hidden_units, requires_grad=True)\n",
        "\n",
        "# Initialize weights and biases for output layer\n",
        "W2 = torch.randn(hidden_units, output_units, requires_grad=True) * 0.1\n",
        "b2 = torch.zeros(output_units, requires_grad=True)\n",
        "\n",
        "# Activation functions\n",
        "def sigmoid(z):\n",
        "    return 1 / (1 + torch.exp(-z))\n",
        "\n",
        "def relu(z):\n",
        "    return torch.maximum(torch.tensor(0.0), z)\n",
        "\n",
        "# Neural network prediction function\n",
        "def predict_nn(X, W1, b1, W2, b2):\n",
        "    # Forward pass through hidden layer\n",
        "    z1 = torch.matmul(X, W1) + b1  # Linear combination\n",
        "    a1 = relu(z1)  # ReLU activation\n",
        "\n",
        "    # Forward pass through output layer\n",
        "    z2 = torch.matmul(a1, W2) + b2  # Linear combination\n",
        "    a2 = sigmoid(z2)  # Sigmoid activation for binary classification\n",
        "\n",
        "    return a2.squeeze()  # Remove extra dimension\n",
        "\n",
        "# Part B - Write a Function Calculating the Loss for the Neural Network\n",
        "\n",
        "def compute_nn_loss(y_true, y_pred):\n",
        "    # Binary cross-entropy loss\n",
        "    eps = 1e-15  # Small value to prevent log(0)\n",
        "    m = y_true.shape[0]\n",
        "    loss = -(1/m) * torch.sum(\n",
        "        y_true * torch.log(y_pred + eps) +\n",
        "        (1 - y_true) * torch.log(1 - y_pred + eps)\n",
        "    )\n",
        "    return loss\n",
        "\n",
        "# Part C - Optimize the Neural Network with Gradient Descent\n",
        "\n",
        "def train_neural_network(X, y, W1, b1, W2, b2, lr=0.01, epochs=1000):\n",
        "    loss_history = []\n",
        "\n",
        "    for epoch in range(epochs):\n",
        "        # Zero gradients at the beginning of each iteration\n",
        "        if W1.grad is not None:\n",
        "            W1.grad.zero_()\n",
        "        if b1.grad is not None:\n",
        "            b1.grad.zero_()\n",
        "        if W2.grad is not None:\n",
        "            W2.grad.zero_()\n",
        "        if b2.grad is not None:\n",
        "            b2.grad.zero_()\n",
        "\n",
        "        # Forward pass\n",
        "        y_pred = predict_nn(X, W1, b1, W2, b2)\n",
        "\n",
        "        # Compute loss\n",
        "        loss = compute_nn_loss(y, y_pred)\n",
        "        loss_history.append(loss.item())\n",
        "\n",
        "        # Backward pass\n",
        "        loss.backward()\n",
        "\n",
        "        # Update parameters manually (no optimizer)\n",
        "        with torch.no_grad():\n",
        "            W1.data -= lr * W1.grad\n",
        "            b1.data -= lr * b1.grad\n",
        "            W2.data -= lr * W2.grad\n",
        "            b2.data -= lr * b2.grad\n",
        "\n",
        "        # Print progress\n",
        "        if epoch % 100 == 0:\n",
        "            print(f'Epoch {epoch}, Loss: {loss.item():.4f}')\n",
        "\n",
        "    return loss_history\n",
        "\n",
        "# Convert your pandas data to PyTorch tensors\n",
        "# Note: Make sure input_df and target are defined in your environment\n",
        "X = torch.tensor(input_df.values, dtype=torch.float32)\n",
        "y = torch.tensor(target.values, dtype=torch.float32)\n",
        "\n",
        "# Reinitialize weights to ensure they are leaf tensors\n",
        "W1 = torch.randn(input_features, hidden_units, requires_grad=True) * 0.1\n",
        "b1 = torch.zeros(hidden_units, requires_grad=True)\n",
        "W2 = torch.randn(hidden_units, output_units, requires_grad=True) * 0.1\n",
        "b2 = torch.zeros(output_units, requires_grad=True)\n",
        "\n",
        "print(\"Neural Network Architecture:\")\n",
        "print(f\"Input features: {input_features}\")\n",
        "print(f\"Hidden units: {hidden_units}\")\n",
        "print(f\"Output units: {output_units}\")\n",
        "print(f\"Total parameters: {(input_features * hidden_units + hidden_units) + (hidden_units * output_units + output_units)}\")\n",
        "\n",
        "print(\"\\nInitial weights shapes:\")\n",
        "print(f\"W1: {W1.shape}, b1: {b1.shape}\")\n",
        "print(f\"W2: {W2.shape}, b2: {b2.shape}\")\n",
        "\n",
        "# Train the neural network\n",
        "print(\"\\nTraining Neural Network...\")\n",
        "loss_history = train_neural_network(X, y, W1, b1, W2, b2, lr=0.1, epochs=1000)\n",
        "\n",
        "# Make predictions and calculate accuracy\n",
        "with torch.no_grad():\n",
        "    final_predictions = predict_nn(X, W1, b1, W2, b2)\n",
        "    binary_predictions = (final_predictions >= 0.5).float()\n",
        "    accuracy = torch.mean((binary_predictions == y).float())\n",
        "    print(f\"\\nFinal Neural Network accuracy: {accuracy.item():.4f}\")\n",
        "\n",
        "# Part D - Plot Ground Truth vs Predicted Probabilities\n",
        "\n",
        "def plot_nn_predictions_vs_actual(X, y, W1, b1, W2, b2):\n",
        "    # Get predictions for all data points\n",
        "    with torch.no_grad():\n",
        "        predictions = predict_nn(X, W1, b1, W2, b2)\n",
        "\n",
        "    # Convert to numpy for plotting\n",
        "    pred_probs = predictions.numpy()\n",
        "    actual_outcomes = y.numpy()\n",
        "\n",
        "    # Create scatter plot\n",
        "    plt.figure(figsize=(10, 6))\n",
        "    plt.scatter(pred_probs, actual_outcomes, alpha=0.6, s=50)\n",
        "    plt.xlabel('Predicted Probabilities (Neural Network)')\n",
        "    plt.ylabel('Actual Outcome (Ground Truth)')\n",
        "    plt.title('Neural Network: Ground Truth vs Predicted Probabilities')\n",
        "    plt.grid(True, alpha=0.3)\n",
        "\n",
        "    # Add reference lines\n",
        "    plt.axhline(y=0.5, color='red', linestyle='--', alpha=0.5, label='Decision boundary (y=0.5)')\n",
        "    plt.axvline(x=0.5, color='red', linestyle='--', alpha=0.5)\n",
        "\n",
        "    # Add some statistics\n",
        "    accuracy = torch.mean(((predictions >= 0.5).float() == y).float())\n",
        "    plt.text(0.05, 0.95, f'NN Accuracy: {accuracy.item():.3f}',\n",
        "             transform=plt.gca().transAxes, fontsize=12,\n",
        "             bbox=dict(boxstyle='round', facecolor='white', alpha=0.8))\n",
        "\n",
        "    plt.legend()\n",
        "    plt.xlim(-0.05, 1.05)\n",
        "    plt.ylim(-0.1, 1.1)\n",
        "    plt.show()\n",
        "\n",
        "# Plot the results\n",
        "plot_nn_predictions_vs_actual(X, y, W1, b1, W2, b2)\n",
        "\n",
        "# Plot training loss\n",
        "plt.figure(figsize=(8, 5))\n",
        "plt.plot(loss_history)\n",
        "plt.title('Neural Network Training Loss')\n",
        "plt.xlabel('Epochs')\n",
        "plt.ylabel('Loss')\n",
        "plt.grid(True)\n",
        "plt.show()\n",
        "\n",
        "print(\"Neural Network training completed!\")"
      ]
    }
  ],
  "metadata": {
    "colab": {
      "provenance": []
    },
    "kernelspec": {
      "display_name": "Python 3",
      "name": "python3"
    },
    "language_info": {
      "name": "python"
    }
  },
  "nbformat": 4,
  "nbformat_minor": 0
}